{
 "cells": [
  {
   "cell_type": "markdown",
   "metadata": {},
   "source": [
    "### According to Law of iterated expectation\n",
    "\n",
    "$E[E[X|Y]] = E[g(Y)] = \\sum_{y} {g(y) \\times p_Y(y)} = \\sum_{y} {E[X|Y=y] \\times p_Y(y)} = E[X]$\n",
    "\n",
    "### For conditional universe\n",
    "$E[E[X|Y,Z]|Z] = E[g(Y,Z)|Z] = \\sum_{y} {g(y,Z) \\times p_{Y,Z|Z}{(y,Z|Z)}} = \\sum_{y} {E[X|Y=y,Z] \\times p_{Y|Z}(y|Z)} = E[X|Z]$\n",
    "\n",
    "First use the definition of the expectations. Then use the law of total expectations.\n",
    "\n",
    "If use total expectations first we will get 3 $E$ nested on the R.H.S, so don't.\n",
    "\n",
    "$E[E[X|Y,Z]] = \\sum_{z}\\sum_{y}{E[X|Y,Z] \\times p_{Y,Z}{(y,z)}} = E[X]$\n",
    "\n",
    "### What won't work out\n",
    "$E[E[X|Y]|Z] = \\sum_{y}{E[X|Y=y] \\times p_{Y|Z}(y|Z)} \\neq E[X|Z]$\n",
    "\n",
    "$E[E[X]|Y] = E[const | Y] \\neq E[X|Y]$\n",
    "\n",
    "These two I think are matter of notation, I think even if you are considering the inner expectation you still take into account the condition of the outter expectation.\n",
    "\n",
    "For the second, if X and Y are independent, then $E[E[X]|Y] = E[E[X]] = E[X] = E[X|Y]$. If X and Y are the same, $E[E[X]|Y] = E[X] = E[Y] = E[X|Y]$"
   ]
  }
 ],
 "metadata": {
  "anaconda-cloud": {},
  "kernelspec": {
   "display_name": "Python [Root]",
   "language": "python",
   "name": "Python [Root]"
  },
  "language_info": {
   "codemirror_mode": {
    "name": "ipython",
    "version": 3
   },
   "file_extension": ".py",
   "mimetype": "text/x-python",
   "name": "python",
   "nbconvert_exporter": "python",
   "pygments_lexer": "ipython3",
   "version": "3.5.2"
  }
 },
 "nbformat": 4,
 "nbformat_minor": 0
}
