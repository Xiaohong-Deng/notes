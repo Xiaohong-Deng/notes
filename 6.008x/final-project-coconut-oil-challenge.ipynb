{
 "cells": [
  {
   "cell_type": "markdown",
   "metadata": {},
   "source": [
    "# final-project coconut oil price movement challenge\n",
    "## setup\n",
    "To further develop the basic problem, we add the dependencies between markets at different time steps. We are asked to predict the 8th day market price movements using the previous 7 days data. The raw data presented to us is in real numbered form.\n",
    "\n",
    "## beforethoughts\n",
    "There are two ways taught in the course can be exploited to approach this problem.\n",
    "### chow-liu\n",
    "We can use chow-liu to learning a tree in a set of 32 nodes, predicting the 8th day price movements as conditional marginals with the previous 7 days results revealed.\n",
    "\n",
    "I suspect the problem was intended otheriwise. In the codebase the method that processes the raw data to generate the training data uses a default window size of 7 which excludes the 8th day. We must include this day to enable chow-liu.\n",
    "\n",
    "The code I implemented results in a predicting pattern which always predicting the movement 0. This result is consistent with another classmate's result. But I found two seemingly bugs.\n",
    "\n",
    "    1. Some conditional marginals for the 8th day markets are np.nan for all four markets. Maybe negative numbers get involved in some logrithmic computation.\n",
    "    2. Conditional marginals sometimes doesn't change even if the information of the previous 7 days, which are the variables being conditioned on, have been changed. That might not be a bug because there are many zeros in the raw data. By and large all windows could be similar.\n",
    "\n",
    "This disappointing result could be led by the fact that there are too many zeros in the raw data.\n",
    "\n",
    "Possible improvements include enforcing some validation process such as n-fold cross validation.\n",
    "### HMM\n",
    "We can treat each market independent of each other but dependent of themselves at different time step. It's a 8 time step HMM model. One way to interpret this is the market price movement of a market on a single day already includes the dependencies on other markets."
   ]
  },
  {
   "cell_type": "code",
   "execution_count": null,
   "metadata": {
    "collapsed": true
   },
   "outputs": [],
   "source": []
  }
 ],
 "metadata": {
  "kernelspec": {
   "display_name": "Python [Root]",
   "language": "python",
   "name": "Python [Root]"
  },
  "language_info": {
   "codemirror_mode": {
    "name": "ipython",
    "version": 3
   },
   "file_extension": ".py",
   "mimetype": "text/x-python",
   "name": "python",
   "nbconvert_exporter": "python",
   "pygments_lexer": "ipython3",
   "version": "3.5.2"
  }
 },
 "nbformat": 4,
 "nbformat_minor": 0
}
