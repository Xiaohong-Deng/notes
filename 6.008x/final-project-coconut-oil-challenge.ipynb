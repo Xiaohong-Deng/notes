{
 "cells": [
  {
   "cell_type": "markdown",
   "metadata": {},
   "source": [
    "# final-project coconut oil price movement challenge\n",
    "## setup\n",
    "To further develop the basic problem, we add the dependencies between markets at different time steps. We are asked to predict the 8th day market price movements using the previous 7 days data. The raw data presented to us is in real numbered form.\n",
    "\n",
    "## approaches\n",
    "There are two ways taught in the course can be exploited to approach this problem.\n",
    "### chow-liu\n",
    "We can use chow-liu to learning a tree in a set of 32 nodes, predicting the 8th day price movements as conditional marginals with the previous 7 days results revealed.\n",
    "\n",
    "I suspect the problem was intended otheriwise. In the codebase the method that processes the raw data to generate the training data uses a default window size of 7 which excludes the 8th day. We must include this day to enable chow-liu.\n",
    "\n",
    "The code I implemented results in a predicting pattern which always predicting the movement 0. This result is consistent with another classmate's result. But I found two seemingly bugs.\n",
    "\n",
    "1. Some conditional marginals for the 8th day markets are np.nan for all four markets. Maybe negative numbers get involved in some logrithmic computation.\n",
    "2. Conditional marginals sometimes doesn't change even if the information of the previous 7 days, which are the variables being conditioned on, have been changed. That might not be a bug because there are many zeros in the raw data. By and large all windows could be similar.\n",
    "\n",
    "This disappointing result could be led by the fact that there are too many zeros in the raw data.\n",
    "\n",
    "Possible improvements include enforcing some validation process such as n-fold cross validation.\n",
    "### markov model?\n",
    "We can treat each market independent of each other but dependent of themselves at different time step. It's similar to a 8 time step HMM but without observations.\n",
    "\n",
    "$p_{X_{1},\\dots ,X_{n}}(x_{1},\\dots ,x_{n})$ = $p_{X_{1}}(x_{1})\\prod _{i=1}^{n-1}p_{X_{\\text {next}}\\mid X_{\\text {current}}}(x_{i+1}\\mid x_{i})$\n",
    "\n",
    "One way to see this as a graphical model is $\\phi_1(x_1)$ = $p_{X_{1}}(x_1)$, which is empirical distributions. All other node potentials are 1. The edge potentials can be considered as empirical conditional distributions. We can compute the marginals for each market at each time step. At predicting stage we can predict the 8th day's movement conditioning on the other 7 days movements, meaning setting those node potentials to 1 for the given value."
   ]
  }
 ],
 "metadata": {
  "anaconda-cloud": {},
  "kernelspec": {
   "display_name": "Python [Root]",
   "language": "python",
   "name": "Python [Root]"
  },
  "language_info": {
   "codemirror_mode": {
    "name": "ipython",
    "version": 3
   },
   "file_extension": ".py",
   "mimetype": "text/x-python",
   "name": "python",
   "nbconvert_exporter": "python",
   "pygments_lexer": "ipython3",
   "version": "3.5.2"
  }
 },
 "nbformat": 4,
 "nbformat_minor": 0
}
