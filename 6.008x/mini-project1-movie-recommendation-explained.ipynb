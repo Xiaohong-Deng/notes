{
 "cells": [
  {
   "cell_type": "markdown",
   "metadata": {},
   "source": [
    "# mini-project 1 movie recommendation explained\n",
    "## setup\n",
    "each movie has a true rating taken from\n",
    "$X\\in \\{ 0,\\ldots ,M-1\\}$\n",
    "\n",
    "each movie was rated by $n$ viewers $n=0, ..., N-1$\n",
    "\n",
    "For a particular movie, the rating from each user is $Y_ n\\in \\{ 0,\\ldots ,M-1\\}$\n",
    "\n",
    "Also assume given the true rating, each $Y_n$ is $i.i.d$ random variable\n",
    "\n",
    "$p_{X,Y_0,Y_1,\\dots ,Y_{N-1}}(x,y_0,y_1,\\dots ,y_{N-1}) = p_{Y_0, \\dots, Y_{N-1}|X}(y_0, \\dots, y_{N-1}|x)\\times p_{X}(x) =p_ X(x) \\prod _{n=0}^{N-1} p_{Y|X}(y_ n \\mid x)$\n",
    "\n",
    "At the beginning you have no idea what x is so $P_{Y|X}(y|x)$ can't be calculated.\n",
    "\n",
    "## proceed\n",
    "In part (a) we are asked to calculate the posterior probability distribution of $X$ for all possible $X$, $p_{X \\mid Y_0,\\dots ,Y_{N-1}}(x \\mid y_0,\\dots ,y_{N-1})$, where $P_{X}(\\cdot)$ is the prior. Here we just give the formular for posterior.\n",
    "\n",
    "In part (b), we code up the formular we derived in part (a) for a particular movie. One assumption here is that the prior for $X$ is equally likely for every value that $X$ can take. $P_{X}(\\cdot) = \\frac{1}{M}$. Two other arguments are likelihood and all the ratings the users gave to this particular movie.\n",
    "\n",
    "In part (c), we are provided a formular for likelihood, which is suspicious. Nontheless, we can use the formular alone to calculate $P_{Y\\mid X}(y\\mid x)$. Now for each possible value $X$ can take and each possible value $Y$ can take, we have the likelihood $P_{Y \\mid X}(y \\mid x)$.\n",
    "\n",
    "In part (d), given all the ratings user gave to all the movies, we can calculate what are the posterior for each movie for all possible $X$. Then from posterior we pick the $X$ value with the largest posterior probability value as the MAP_rating.\n",
    "\n",
    "## conclusion1\n",
    "So we can see now that the ultimate goal is computing part (a), that is, given all the user ratings, what value the true rating $X$ is most likely to be? But I think recommending the movies with highest ratings to viewers is impractical."
   ]
  }
 ],
 "metadata": {
  "anaconda-cloud": {},
  "kernelspec": {
   "display_name": "Python [Root]",
   "language": "python",
   "name": "Python [Root]"
  },
  "language_info": {
   "codemirror_mode": {
    "name": "ipython",
    "version": 3
   },
   "file_extension": ".py",
   "mimetype": "text/x-python",
   "name": "python",
   "nbconvert_exporter": "python",
   "pygments_lexer": "ipython3",
   "version": "3.5.2"
  }
 },
 "nbformat": 4,
 "nbformat_minor": 0
}
