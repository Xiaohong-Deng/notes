{
 "cells": [
  {
   "cell_type": "markdown",
   "metadata": {},
   "source": [
    "# mini-project 2 robot localization\n",
    "## setup\n",
    "This project uses a Hidden Markov Model(HMM)\n",
    "![HMM](HMM_pic.jpg)\n",
    "The robot can move inside a grid of size 12 times 8.\n",
    "\n",
    "A hidden state includes a current position $Z_i$ and the last action the robot took $A_i$\n",
    "\n",
    "An observation is the current position of the robot but it is a noisy one. The true position could be one cell off from the observed one. This means all the adjacent cells and the true cell are equally likely to be observed. In other words, the cell you observed and all its adjacent cells are equally likely to be the true position. The last action can't be observed.\n",
    "\n",
    "Given the last action it took, the probability distribution of the next action it will take varies.\n",
    "\n",
    "## analysis\n",
    "Often in a HMM we have\n",
    "\n",
    "$\\displaystyle p_{X_{1},\\dots ,X_{n},Y_{1},\\dots ,Y_{n}}(x_{1},\\dots ,x_{n},y_{1},\\dots ,y_{n})\t \t \n",
    " \t \t \t\\displaystyle $ = $p_{X_{1}}(x_{1})\\bigg\\{ \\prod _{i=1}^{n}p_{Y\\mid X}(y_{i}\\mid x_{i})\\bigg\\} \\bigg\\{ \\prod _{i=1}^{n-1}p_{X_{\\text {next}}\\mid X_{\\text {current}}}(x_{i+1}\\mid x_{i})\\bigg\\} $\n",
    "\n",
    "There are three components\n",
    "\n",
    "1. initial state distribution $P_{X_1}(x_1)$: the number of values the initial position can take is 12 x 8, equally likely. and the initial action is set to **stay** by the specification.\n",
    "2. observation distribution $P_{Y_i \\mid X_i}(y_i \\mid x_i)$: this means given a true hidden state what is the probability of a particular position you will observe? This info is also given by the specification. This is a matrix since for each $X_i$ it can take 96 positions and in each position it can take at most 5 last actions.\n",
    "3. transition distribution $P_{X_{next} \\mid X_{current}}(x_{i+1} \\mid x_{i})$: from the specification we know that given the current position and the last action of the robot, the probability distribution of the next action is deterministic, and given the next action we know the next position, thus $P_{X_{next} \\mid X_{current}}(x_{i+1} \\mid x_{i})$ can be obtained. This is a square matrix. I think most of its entries are zeros because for each position the robot can only move to the adjacent cells in the next time step.\n",
    "\n",
    "Until now the part (a) can be coded up by following the sum-product algorithm."
   ]
  }
 ],
 "metadata": {
  "kernelspec": {
   "display_name": "Python [Root]",
   "language": "python",
   "name": "Python [Root]"
  },
  "language_info": {
   "codemirror_mode": {
    "name": "ipython",
    "version": 3
   },
   "file_extension": ".py",
   "mimetype": "text/x-python",
   "name": "python",
   "nbconvert_exporter": "python",
   "pygments_lexer": "ipython3",
   "version": "3.5.2"
  }
 },
 "nbformat": 4,
 "nbformat_minor": 0
}
